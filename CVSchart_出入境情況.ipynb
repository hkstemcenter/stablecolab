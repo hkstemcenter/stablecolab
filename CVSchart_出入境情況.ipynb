{
  "nbformat": 4,
  "nbformat_minor": 0,
  "metadata": {
    "colab": {
      "provenance": [],
      "authorship_tag": "ABX9TyP8Szj2W5Ne0w6MOFPPwExP",
      "include_colab_link": true
    },
    "kernelspec": {
      "name": "python3",
      "display_name": "Python 3"
    },
    "language_info": {
      "name": "python"
    }
  },
  "cells": [
    {
      "cell_type": "markdown",
      "metadata": {
        "id": "view-in-github",
        "colab_type": "text"
      },
      "source": [
        "<a href=\"https://colab.research.google.com/github/hkstemcenter/stablecolab/blob/main/CVSchart_%E5%87%BA%E5%85%A5%E5%A2%83%E6%83%85%E6%B3%81.ipynb\" target=\"_parent\"><img src=\"https://colab.research.google.com/assets/colab-badge.svg\" alt=\"Open In Colab\"/></a>"
      ]
    },
    {
      "cell_type": "code",
      "source": [
        "import matplotlib.pyplot as plt\n",
        "import pandas as pd\n",
        "\n",
        "!wget -nc https://www.immd.gov.hk/opendata/hkt/transport/immigration_clearance/statistics_passenger_visitor_vehicular_traffic.csv\n",
        "\n",
        "df = pd.read_csv(\"/content/statistics_passenger_visitor_vehicular_traffic.csv\")\n",
        "df.columns"
      ],
      "metadata": {
        "id": "ieAfwkfhCxCK",
        "colab": {
          "base_uri": "https://localhost:8080/"
        },
        "outputId": "06119635-1d47-41ae-dd0c-acb8b7682661"
      },
      "execution_count": null,
      "outputs": [
        {
          "output_type": "stream",
          "name": "stdout",
          "text": [
            "File ‘statistics_passenger_visitor_vehicular_traffic.csv’ already there; not retrieving.\n",
            "\n"
          ]
        },
        {
          "output_type": "execute_result",
          "data": {
            "text/plain": [
              "Index(['年份', '旅客流量', '旅客流量 - 乘飛機', '旅客流量 - 經海路', '旅客流量 - 經陸路', '來往內地的車輛流量',\n",
              "       '訪客'],\n",
              "      dtype='object')"
            ]
          },
          "metadata": {},
          "execution_count": 3
        }
      ]
    },
    {
      "cell_type": "code",
      "execution_count": null,
      "metadata": {
        "id": "aNX_ESMV92GE"
      },
      "outputs": [],
      "source": [
        "# 下載台北思源黑體並命名taipei_sans_tc_beta.ttf，移至指定路徑\n",
        "!wget -O TaipeiSansTCBeta-Regular.ttf https://drive.google.com/uc?id=1m6aJ_zSsFdjPwPfS1ZB-GXG1urIiy7jS&export=download\n",
        "import matplotlib as mpl\n",
        "import matplotlib.pyplot as plt\n",
        "import pandas as pd\n",
        "from matplotlib.font_manager import fontManager\n",
        "fontManager.addfont('TaipeiSansTCBeta-Regular.ttf')\n",
        "mpl.rc('font', family='Taipei Sans TC Beta')\n",
        "\n",
        "!wget -nc https://www.immd.gov.hk/opendata/hkt/transport/immigration_clearance/statistics_passenger_visitor_vehicular_traffic.csv\n",
        "\n",
        "df = pd.read_csv(\"/content/statistics_passenger_visitor_vehicular_traffic.csv\")\n",
        "df.columns\n",
        "\n",
        "plt.rcParams['font.sans-serif'] = ['Microsoft JhengHei'] \n",
        "plt.rcParams[\"axes.unicode_minus\"]=False #該語句解決圖像中的「-」負號的亂碼問題\n",
        "\n",
        "# Plot the data.\n",
        "plt.plot(df['年份'], df['訪客'],label='訪客')\n",
        "plt.plot(df['年份'], df['來往內地的車輛流量'],label='車輛流量')\n",
        "plt.scatter(df['年份'], df['訪客'])\n",
        "plt.scatter(df['年份'], df['來往內地的車輛流量'])\n",
        "plt.xlabel(\"年份\")\n",
        "plt.ylabel(\"百萬人/車次\")\n",
        "\n",
        "plt.legend(\n",
        "    loc='best',\n",
        "    fontsize=12,\n",
        "    shadow=True,\n",
        "    facecolor='#ccc',\n",
        "    edgecolor='#000',\n",
        "    title='出入境情況',\n",
        "    title_fontsize=12)\n",
        "plt.show()\n",
        "\n"
      ]
    }
  ]
}